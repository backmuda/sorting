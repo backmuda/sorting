{
 "cells": [
  {
   "cell_type": "markdown",
   "metadata": {},
   "source": [
    "# Binary Sort Algorithm 1\n",
    "\n",
    "First we build an array with ones and zeros as elements in random order (uniformly random)."
   ]
  },
  {
   "cell_type": "code",
   "execution_count": 1,
   "metadata": {},
   "outputs": [],
   "source": [
    "import numpy as np  # Standard numerical package for python.\n",
    "import string  # String manipulation package."
   ]
  },
  {
   "cell_type": "code",
   "execution_count": 7,
   "metadata": {},
   "outputs": [
    {
     "name": "stdout",
     "output_type": "stream",
     "text": [
      "[1, 0, 1, 0, 0, 0, 0, 1, 1, 1, 0, 0, 0, 1, 1, 1, 0, 0, 1, 1, 0, 0, 0, 1, 0, 1]\n",
      "['A', 'B', 'C', 'D', 'E', 'F', 'G', 'H', 'I', 'J', 'K', 'L', 'M', 'N', 'O', 'P', 'Q', 'R'] ...\n"
     ]
    }
   ],
   "source": [
    "array_length = 26\n",
    "random_ones_zeros = list(np.random.choice([0, 1], array_length))  # Uniformly random one's and zeros.\n",
    "match_alphabet = string.ascii_uppercase[0:array_length]\n",
    "A = [random_ones_zeros, list(match_alphabet)]\n",
    "print(A[0])\n",
    "print(A[1][0:18], \"...\")"
   ]
  },
  {
   "cell_type": "markdown",
   "metadata": {},
   "source": [
    "So we have the random zeros and ones, with an alphabet for tracking. We define our sorting alorithm by"
   ]
  },
  {
   "cell_type": "code",
   "execution_count": 8,
   "metadata": {},
   "outputs": [],
   "source": [
    "def main_algorithm(A):\n",
    "\n",
    "    A_length = len(A[0])  # indices start with zero in python.\n",
    "    i = 0\n",
    "    for j in range(A_length):\n",
    "        if A[0][i] == 1:\n",
    "            key = A[0][i]\n",
    "            key_alpha = A[1][i]\n",
    "            A[0][i:A_length - 1] = A[0][i + 1: A_length]\n",
    "            A[1][i:A_length - 1] = A[1][i + 1: A_length]\n",
    "            A[0][A_length - 1] = key\n",
    "            A[1][A_length - 1] = key_alpha\n",
    "        else:\n",
    "            i += 1\n",
    "\n",
    "    return A"
   ]
  },
  {
   "cell_type": "markdown",
   "metadata": {},
   "source": [
    "Printing the results"
   ]
  },
  {
   "cell_type": "code",
   "execution_count": 10,
   "metadata": {},
   "outputs": [
    {
     "name": "stdout",
     "output_type": "stream",
     "text": [
      "[0, 0, 0, 0, 0, 0, 0, 0, 0, 0, 0, 0, 0, 0, 1, 1, 1, 1, 1, 1, 1, 1, 1, 1, 1, 1]\n",
      "['B', 'D', 'E', 'F', 'G', 'K', 'L', 'M', 'Q', 'R', 'U', 'V', 'W', 'Y', 'A', 'C', 'H', 'I', 'J', 'N', 'O', 'P', 'S', 'T', 'X', 'Z']\n",
      "\n"
     ]
    }
   ],
   "source": [
    "A = main_algorithm(A)\n",
    "print(A[0])\n",
    "print(A[1])\n",
    "print()"
   ]
  },
  {
   "cell_type": "markdown",
   "metadata": {},
   "source": [
    "For clarity the bare bones of the algorithm is"
   ]
  },
  {
   "cell_type": "code",
   "execution_count": 11,
   "metadata": {},
   "outputs": [],
   "source": [
    "def bare_algorithm(a):\n",
    "\n",
    "    i = 0\n",
    "    length_a = len(a)\n",
    "    for j in range(length_a):\n",
    "        if a[i] == 1:\n",
    "            key = a[i]\n",
    "            a[i:length_a - 1] = a[i + 1: length_a]  # Shift indices down 1.\n",
    "            a[length_a - 1] = key  # Move 1 to end of list\n",
    "        else:\n",
    "            i += 1  # If we encounter a zero we do nothing and move on.\n",
    "\n",
    "    return a"
   ]
  },
  {
   "cell_type": "markdown",
   "metadata": {},
   "source": [
    "Double checking the functionality, build another random array..."
   ]
  },
  {
   "cell_type": "code",
   "execution_count": 14,
   "metadata": {},
   "outputs": [
    {
     "name": "stdout",
     "output_type": "stream",
     "text": [
      "[1, 1, 0, 0, 1, 0, 0, 0, 0, 0, 0, 1, 0, 0, 0, 1, 0, 0, 0, 1, 0, 1, 1, 0, 0, 1, 1, 0, 1, 0, 1, 0, 1, 0, 0, 0, 1, 1, 1]\n"
     ]
    }
   ],
   "source": [
    "array_length = 39\n",
    "random_ones_zeros = list(np.random.choice([0, 1], array_length))\n",
    "print(random_ones_zeros)"
   ]
  },
  {
   "cell_type": "markdown",
   "metadata": {},
   "source": [
    "... and execute"
   ]
  },
  {
   "cell_type": "code",
   "execution_count": 16,
   "metadata": {},
   "outputs": [
    {
     "name": "stdout",
     "output_type": "stream",
     "text": [
      "[0, 0, 0, 0, 0, 0, 0, 0, 0, 0, 0, 0, 0, 0, 0, 0, 0, 0, 0, 0, 0, 0, 0, 1, 1, 1, 1, 1, 1, 1, 1, 1, 1, 1, 1, 1, 1, 1, 1]\n"
     ]
    }
   ],
   "source": [
    "print(bare_algorithm(random_ones_zeros))"
   ]
  },
  {
   "cell_type": "markdown",
   "metadata": {},
   "source": [
    "## Analysis\n",
    "\n",
    "Clearly the algorithm sorts our binary array. It moves each key of $1$ to the end of the array, and ignores zeros along the way.\n",
    "\n",
    " 1. Above we see that `main_algorithm` (and consequently `bare_algorithm`) are stable—they have sorted and maintained order. The algorithm does nothing when `A[i] == 0`, therefore it leaves all zeros in their original order. When `A[i] == 1` the `1` is moved to the end of the array. The algorithm iterates over the entire length of `A` however, so it examines every key at every index, and therefore every key with value `1` is moved to the last index of the array in the same order it was examined. Essentially, `1`'s are rotated to the end of the array. Rotations maintain sequential order, and firt `1` encountered will eventually be back to the front of the subarray of `1`'s. Therefore the algorithm is stable. The alphabet mapping above provides evidence for that.\n",
    " 2. The algorithm works by inspecting each `A[j]` in order, for a total of `A.length` inspections. Subsequent operations do not cycle through the array in any way. The only line in question, is line 8 in `bare_algorithm`, where all indices are shifted down. Here it assumed that array elements are shifted only by reference and not value. This is much different than the case in insertion sort where we have to count these shifts because our keying element needs to be compared to each element along the way. This is not the case here, we simply move it to the end of the line. If this assumption is true then the cost of such an operation is fixed, and the algorithm is $O(n)$. "
   ]
  },
  {
   "cell_type": "markdown",
   "metadata": {},
   "source": [
    "# Binary Sort Algorithm 2"
   ]
  },
  {
   "cell_type": "markdown",
   "metadata": {},
   "source": [
    "In the case that the logic of the above analysis fails. Here is a binary sorting algorithm, that's definitely in $O(n)$."
   ]
  },
  {
   "cell_type": "code",
   "execution_count": 26,
   "metadata": {},
   "outputs": [],
   "source": [
    "def binary_sort(A):\n",
    "\n",
    "    i = 0\n",
    "    j = len(A[0]) - 1\n",
    "    while i < j:\n",
    "        if A[0][i] == 1:\n",
    "            while A[0][j] == 1 and i < j:\n",
    "                j -= 1\n",
    "            A[0][i], A[0][j] = A[0][j], A[0][i]\n",
    "            A[1][i], A[1][j] = A[1][j], A[1][i]\n",
    "            j -= 1\n",
    "        i += 1\n",
    "\n",
    "    return A"
   ]
  },
  {
   "cell_type": "markdown",
   "metadata": {},
   "source": [
    "Verification that it works:"
   ]
  },
  {
   "cell_type": "code",
   "execution_count": 27,
   "metadata": {},
   "outputs": [
    {
     "name": "stdout",
     "output_type": "stream",
     "text": [
      "Prior to sort: \n",
      "[0, 0, 1, 1, 0, 1, 1, 1, 1, 0, 0, 0, 0, 1, 1, 0, 0, 0, 0, 1, 1, 1, 1, 0, 0, 1]\n",
      "['A', 'B', 'C', 'D', 'E', 'F', 'G', 'H', 'I', 'J', 'K', 'L', 'M', 'N', 'O', 'P', 'Q', 'R', 'S', 'T', 'U', 'V', 'W', 'X', 'Y', 'Z']\n",
      "\n",
      "Post sort: \n",
      "[0, 0, 0, 0, 0, 0, 0, 0, 0, 0, 0, 0, 0, 1, 1, 1, 1, 1, 1, 1, 1, 1, 1, 1, 1, 1]\n",
      "['A', 'B', 'Y', 'X', 'E', 'S', 'R', 'Q', 'P', 'J', 'K', 'L', 'M', 'N', 'O', 'I', 'H', 'G', 'F', 'T', 'U', 'V', 'W', 'D', 'C', 'Z']\n",
      "\n"
     ]
    }
   ],
   "source": [
    "array_length = 26\n",
    "random_ones_zeros = list(np.random.choice([0, 1], array_length))  # Uniformly random one's and zeros.\n",
    "match_alphabet = string.ascii_uppercase[0:array_length]\n",
    "A = [random_ones_zeros, list(match_alphabet)]\n",
    "print(\"Prior to sort: \")\n",
    "print(A[0])\n",
    "print(A[1])\n",
    "print()\n",
    "print(\"Post sort: \")\n",
    "A = binary_sort(A)\n",
    "print(A[0])\n",
    "print(A[1])\n",
    "print()"
   ]
  },
  {
   "cell_type": "markdown",
   "metadata": {},
   "source": [
    "## Analysis\n",
    "\n",
    "The algorithm works by starting at different ends of the array. `i` marks the first index, `j` the last. The two indices always increment towards each other. In the outer loop `i` increments to `i+1` and will continue to do so until a $1$ is encountered. Once `A[i] == 1`, we enter the nested loop below on line 7, in which `j` begines to decrement. Note that only one of the indices is changing per loop and the condition that `i < j` is checked on both the outer and inner loop ensuring $O(n)$ time. In other words if `j` was decremented $k$ times then `i` must have been incremented at most `A.length` $- k$ times. Summing to a total of `A.length`, and those were the only variables referencing the number of inputs.\n",
    "\n",
    "Here is the bare bones version:"
   ]
  },
  {
   "cell_type": "code",
   "execution_count": 28,
   "metadata": {},
   "outputs": [],
   "source": [
    "def binary_sort_bare(A):\n",
    "\n",
    "    i = 0\n",
    "    j = len(A) - 1\n",
    "    while i < j:\n",
    "        if A[i] == 1:\n",
    "            while A[j] == 1 and i < j:\n",
    "                j -= 1\n",
    "            A[i], A[j] = A[j], A[i]\n",
    "            j -= 1\n",
    "        i += 1\n",
    "\n",
    "    return A"
   ]
  },
  {
   "cell_type": "markdown",
   "metadata": {},
   "source": [
    "From the print outs above it's clear that this algorithm is not stable."
   ]
  },
  {
   "cell_type": "code",
   "execution_count": null,
   "metadata": {},
   "outputs": [],
   "source": []
  }
 ],
 "metadata": {
  "kernelspec": {
   "display_name": "Python 3",
   "language": "python",
   "name": "python3"
  },
  "language_info": {
   "codemirror_mode": {
    "name": "ipython",
    "version": 3
   },
   "file_extension": ".py",
   "mimetype": "text/x-python",
   "name": "python",
   "nbconvert_exporter": "python",
   "pygments_lexer": "ipython3",
   "version": "3.7.0"
  }
 },
 "nbformat": 4,
 "nbformat_minor": 2
}
